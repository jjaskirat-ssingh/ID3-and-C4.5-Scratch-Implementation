{
 "cells": [
  {
   "cell_type": "code",
   "execution_count": 47,
   "id": "4e6dd05c-c86d-4b8c-9c8d-dedd2fe409b6",
   "metadata": {},
   "outputs": [],
   "source": [
    "import pandas as pd \n",
    "import numpy as np"
   ]
  },
  {
   "cell_type": "code",
   "execution_count": 48,
   "id": "ff20cb22-7f4f-4ed8-8659-822a27ffc77b",
   "metadata": {},
   "outputs": [],
   "source": [
    "def find_entropy(df):\n",
    "        target = df.keys()[-1]\n",
    "        target_values = df[target].unique()\n",
    "        entropy=0\n",
    "        for value in target_values:\n",
    "            prob = len(df[df[target]==value])/len(df)\n",
    "            entropy += -(prob*np.log2(prob))\n",
    "        return entropy"
   ]
  },
  {
   "cell_type": "code",
   "execution_count": 49,
   "id": "34033329-b616-41ce-bca8-9fdac4b02f0e",
   "metadata": {},
   "outputs": [
    {
     "data": {
      "text/html": [
       "<div>\n",
       "<style scoped>\n",
       "    .dataframe tbody tr th:only-of-type {\n",
       "        vertical-align: middle;\n",
       "    }\n",
       "\n",
       "    .dataframe tbody tr th {\n",
       "        vertical-align: top;\n",
       "    }\n",
       "\n",
       "    .dataframe thead th {\n",
       "        text-align: right;\n",
       "    }\n",
       "</style>\n",
       "<table border=\"1\" class=\"dataframe\">\n",
       "  <thead>\n",
       "    <tr style=\"text-align: right;\">\n",
       "      <th></th>\n",
       "      <th>Outlook</th>\n",
       "      <th>Temp</th>\n",
       "      <th>Humidity</th>\n",
       "      <th>Windy</th>\n",
       "      <th>Play</th>\n",
       "    </tr>\n",
       "  </thead>\n",
       "  <tbody>\n",
       "    <tr>\n",
       "      <th>0</th>\n",
       "      <td>rainy</td>\n",
       "      <td>hot</td>\n",
       "      <td>high</td>\n",
       "      <td>0</td>\n",
       "      <td>0</td>\n",
       "    </tr>\n",
       "    <tr>\n",
       "      <th>1</th>\n",
       "      <td>rainy</td>\n",
       "      <td>hot</td>\n",
       "      <td>high</td>\n",
       "      <td>1</td>\n",
       "      <td>0</td>\n",
       "    </tr>\n",
       "    <tr>\n",
       "      <th>2</th>\n",
       "      <td>overcast</td>\n",
       "      <td>hot</td>\n",
       "      <td>high</td>\n",
       "      <td>0</td>\n",
       "      <td>1</td>\n",
       "    </tr>\n",
       "    <tr>\n",
       "      <th>3</th>\n",
       "      <td>sunny</td>\n",
       "      <td>mild</td>\n",
       "      <td>high</td>\n",
       "      <td>0</td>\n",
       "      <td>1</td>\n",
       "    </tr>\n",
       "    <tr>\n",
       "      <th>4</th>\n",
       "      <td>sunny</td>\n",
       "      <td>cool</td>\n",
       "      <td>normal</td>\n",
       "      <td>0</td>\n",
       "      <td>1</td>\n",
       "    </tr>\n",
       "  </tbody>\n",
       "</table>\n",
       "</div>"
      ],
      "text/plain": [
       "    Outlook  Temp Humidity  Windy  Play\n",
       "0     rainy   hot     high      0     0\n",
       "1     rainy   hot     high      1     0\n",
       "2  overcast   hot     high      0     1\n",
       "3     sunny  mild     high      0     1\n",
       "4     sunny  cool   normal      0     1"
      ]
     },
     "execution_count": 49,
     "metadata": {},
     "output_type": "execute_result"
    }
   ],
   "source": [
    "df = pd.read_csv('./weather.csv')\n",
    "df.head()"
   ]
  },
  {
   "cell_type": "code",
   "execution_count": 50,
   "id": "44db6d90-7015-4c8e-8e49-1d15b1bc5581",
   "metadata": {},
   "outputs": [],
   "source": [
    "def find_average_info_entropy(df, attribute):\n",
    "    target = df.keys()[-1]\n",
    "    target_values = df[target].unique()\n",
    "    attr_values = df[attribute].unique()\n",
    "    average_info_entropy = 0\n",
    "    for value1 in attr_values:\n",
    "        entropy_subsample = 0\n",
    "        for value2 in target_values:\n",
    "            num = len(df[attribute][df[attribute]==value1][df[target]==value2])\n",
    "            den = len(df[attribute][df[attribute]==value1])\n",
    "            prob = num/den\n",
    "            entropy_subsample += -(prob*np.log2(prob+1e-7)) \n",
    "        weight = den/len(df)\n",
    "        average_info_entropy += weight*entropy_subsample        \n",
    "    return average_info_entropy"
   ]
  },
  {
   "cell_type": "code",
   "execution_count": 51,
   "id": "2cc0706e-147f-45df-bfe7-37149039d33a",
   "metadata": {},
   "outputs": [],
   "source": [
    "def find_split_info(df, attribute):\n",
    "    target = df.keys()[-1]\n",
    "    target_values = df[target].unique()\n",
    "    attr_values = df[attribute].unique()\n",
    "    split_info = 0\n",
    "    for value1 in attr_values:\n",
    "        entropy_subsample = 0\n",
    "        Sv = len(df[attribute][df[attribute]==value1])\n",
    "        weight = Sv/len(df)\n",
    "        split_info += -weight*np.log2(weight+1e-7)\n",
    "    return split_info"
   ]
  },
  {
   "cell_type": "code",
   "execution_count": 52,
   "id": "c478b188-922a-4855-b2bc-3cdefe18f9ed",
   "metadata": {},
   "outputs": [
    {
     "data": {
      "text/plain": [
       "0.9402859586706311"
      ]
     },
     "execution_count": 52,
     "metadata": {},
     "output_type": "execute_result"
    }
   ],
   "source": [
    "find_entropy(df)"
   ]
  },
  {
   "cell_type": "code",
   "execution_count": 53,
   "id": "c94ae66b-6c49-41fd-825f-68fd9f36145b",
   "metadata": {},
   "outputs": [
    {
     "data": {
      "text/plain": [
       "0.6935358915770655"
      ]
     },
     "execution_count": 53,
     "metadata": {},
     "output_type": "execute_result"
    }
   ],
   "source": [
    "find_average_info_entropy(df, 'Outlook')"
   ]
  },
  {
   "cell_type": "code",
   "execution_count": 54,
   "id": "860b1456-da9b-4cb5-a2d7-44c7d0155fc8",
   "metadata": {},
   "outputs": [
    {
     "data": {
      "text/plain": [
       "1.5774058500438985"
      ]
     },
     "execution_count": 54,
     "metadata": {},
     "output_type": "execute_result"
    }
   ],
   "source": [
    "find_split_info(df, 'Outlook')"
   ]
  },
  {
   "cell_type": "code",
   "execution_count": 56,
   "id": "a2a5684a-5209-473d-a054-1c2c52c4c534",
   "metadata": {},
   "outputs": [],
   "source": [
    "def find_winner(df):\n",
    "    attributes = df.keys()[:-1]\n",
    "    IG = []\n",
    "    GR = []\n",
    "    for attribute in attributes:\n",
    "        # print(attribute)\n",
    "        IG.append(find_entropy(df) - find_average_info_entropy(df, attribute))\n",
    "        GR.append((find_entropy(df) - find_average_info_entropy(df, attribute))/find_split_info(df, attribute))\n",
    "    # print(IG)\n",
    "    # print(GR)\n",
    "    return df.keys()[:-1][np.argmax(GR)]"
   ]
  },
  {
   "cell_type": "code",
   "execution_count": 57,
   "id": "a48bc91b-721a-4de6-b825-3eff4ddb8f93",
   "metadata": {},
   "outputs": [
    {
     "data": {
      "text/plain": [
       "'Outlook'"
      ]
     },
     "execution_count": 57,
     "metadata": {},
     "output_type": "execute_result"
    }
   ],
   "source": [
    "find_winner(df)"
   ]
  },
  {
   "cell_type": "code",
   "execution_count": 58,
   "id": "a22d53a8-0286-49d3-b572-45d8ceb7cc90",
   "metadata": {},
   "outputs": [],
   "source": [
    "def training(df, tree=None):\n",
    "    split_attribute = find_winner(df)\n",
    "    target = df.keys()[-1]\n",
    "    if tree is None:\n",
    "        tree = {}\n",
    "        tree[split_attribute] = {}\n",
    "    split_attribute_values = df[split_attribute].unique()\n",
    "    for value in split_attribute_values:\n",
    "        sub_df = df[df[split_attribute]==value].reset_index(drop=True) #index ko drop kra\n",
    "        unique_values = sub_df[target].unique()\n",
    "        if len(unique_values) == 1:\n",
    "            tree[split_attribute][value] = unique_values[0]\n",
    "        else:\n",
    "            tree[split_attribute][value] = training(sub_df)\n",
    "    return tree"
   ]
  },
  {
   "cell_type": "code",
   "execution_count": 60,
   "id": "6ce6ed8a-3bb3-4456-aaad-8f30454b80a0",
   "metadata": {},
   "outputs": [
    {
     "data": {
      "text/plain": [
       "{'Outlook': {'rainy': {'Humidity': {'high': 0, 'normal': 1}},\n",
       "  'overcast': 1,\n",
       "  'sunny': {'Windy': {0: 1, 1: 0}}}}"
      ]
     },
     "execution_count": 60,
     "metadata": {},
     "output_type": "execute_result"
    }
   ],
   "source": [
    "tree = training(df)\n",
    "tree"
   ]
  },
  {
   "cell_type": "code",
   "execution_count": 61,
   "id": "8b4360d7-1f07-4d45-b9c0-32fbbca7e7e6",
   "metadata": {},
   "outputs": [],
   "source": [
    "def predict(inst, tree):\n",
    "    for nodes in tree.keys():\n",
    "        value = inst[nodes]\n",
    "        tree = tree[nodes][value]\n",
    "        prediction = 0\n",
    "        if type(tree) is dict:\n",
    "            prediction = predict(inst, tree)\n",
    "        else:\n",
    "            prediction = tree\n",
    "            break\n",
    "    return prediction "
   ]
  },
  {
   "cell_type": "code",
   "execution_count": 62,
   "id": "adc391ea-4d13-4072-9d14-1d4138f71beb",
   "metadata": {},
   "outputs": [],
   "source": [
    "df1 = pd.read_csv('./weather_test.csv')\n",
    "Y_label = []\n",
    "for i in range(len(df1)):\n",
    "    inst = df1.iloc[i,:]\n",
    "    prediction = predict(inst, tree)\n",
    "    Y_label.append(prediction)"
   ]
  },
  {
   "cell_type": "code",
   "execution_count": 63,
   "id": "2d323ad4-b7de-43ba-9884-ee95f083ffd1",
   "metadata": {},
   "outputs": [
    {
     "data": {
      "text/plain": [
       "[0, 1]"
      ]
     },
     "execution_count": 63,
     "metadata": {},
     "output_type": "execute_result"
    }
   ],
   "source": [
    "Y_label"
   ]
  },
  {
   "cell_type": "code",
   "execution_count": 66,
   "id": "eb2dc987-0e5c-427b-88b9-5ee2ad830cde",
   "metadata": {},
   "outputs": [],
   "source": [
    "def visualizer(root, indent=0):\n",
    "    if type(root) == dict:\n",
    "        for k, v in root.items():\n",
    "            print(\" \"*indent + f\"{k}:\")\n",
    "            visualizer(v, indent+2)\n",
    "    else:\n",
    "        print(\" \"*indent + repr(root))"
   ]
  },
  {
   "cell_type": "code",
   "execution_count": 67,
   "id": "eda774f3-866e-4792-8f93-109c699fd932",
   "metadata": {},
   "outputs": [
    {
     "name": "stdout",
     "output_type": "stream",
     "text": [
      "Outlook:\n",
      "  rainy:\n",
      "    Humidity:\n",
      "      high:\n",
      "        0\n",
      "      normal:\n",
      "        1\n",
      "  overcast:\n",
      "    1\n",
      "  sunny:\n",
      "    Windy:\n",
      "      0:\n",
      "        1\n",
      "      1:\n",
      "        0\n"
     ]
    }
   ],
   "source": [
    "visualizer(tree)"
   ]
  }
 ],
 "metadata": {
  "kernelspec": {
   "display_name": "Python 3 (ipykernel)",
   "language": "python",
   "name": "python3"
  },
  "language_info": {
   "codemirror_mode": {
    "name": "ipython",
    "version": 3
   },
   "file_extension": ".py",
   "mimetype": "text/x-python",
   "name": "python",
   "nbconvert_exporter": "python",
   "pygments_lexer": "ipython3",
   "version": "3.9.2"
  }
 },
 "nbformat": 4,
 "nbformat_minor": 5
}
