{
 "cells": [
  {
   "cell_type": "code",
   "execution_count": 1,
   "id": "884ce46b-2cb5-451d-9c29-84dc1e94ba6f",
   "metadata": {},
   "outputs": [],
   "source": [
    "import pandas as pd \n",
    "import numpy as np"
   ]
  },
  {
   "cell_type": "code",
   "execution_count": 2,
   "id": "9474d311-0c38-461a-bc4c-c473f1137d73",
   "metadata": {},
   "outputs": [],
   "source": [
    "def find_entropy(df):\n",
    "        target = df.keys()[-1]\n",
    "        target_values = df[target].unique()\n",
    "        entropy=0\n",
    "        for value in target_values:\n",
    "            prob = len(df[df[target]==value])/len(df)\n",
    "            entropy += -(prob*np.log2(prob))\n",
    "        return entropy"
   ]
  },
  {
   "cell_type": "code",
   "execution_count": 3,
   "id": "7d3a1341-86a9-4025-9e30-4dd285e24862",
   "metadata": {},
   "outputs": [
    {
     "data": {
      "text/html": [
       "<div>\n",
       "<style scoped>\n",
       "    .dataframe tbody tr th:only-of-type {\n",
       "        vertical-align: middle;\n",
       "    }\n",
       "\n",
       "    .dataframe tbody tr th {\n",
       "        vertical-align: top;\n",
       "    }\n",
       "\n",
       "    .dataframe thead th {\n",
       "        text-align: right;\n",
       "    }\n",
       "</style>\n",
       "<table border=\"1\" class=\"dataframe\">\n",
       "  <thead>\n",
       "    <tr style=\"text-align: right;\">\n",
       "      <th></th>\n",
       "      <th>Outlook</th>\n",
       "      <th>Temp</th>\n",
       "      <th>Humidity</th>\n",
       "      <th>Windy</th>\n",
       "      <th>Play</th>\n",
       "    </tr>\n",
       "  </thead>\n",
       "  <tbody>\n",
       "    <tr>\n",
       "      <th>0</th>\n",
       "      <td>rainy</td>\n",
       "      <td>hot</td>\n",
       "      <td>high</td>\n",
       "      <td>0</td>\n",
       "      <td>0</td>\n",
       "    </tr>\n",
       "    <tr>\n",
       "      <th>1</th>\n",
       "      <td>rainy</td>\n",
       "      <td>hot</td>\n",
       "      <td>high</td>\n",
       "      <td>1</td>\n",
       "      <td>0</td>\n",
       "    </tr>\n",
       "    <tr>\n",
       "      <th>2</th>\n",
       "      <td>overcast</td>\n",
       "      <td>hot</td>\n",
       "      <td>high</td>\n",
       "      <td>0</td>\n",
       "      <td>1</td>\n",
       "    </tr>\n",
       "    <tr>\n",
       "      <th>3</th>\n",
       "      <td>sunny</td>\n",
       "      <td>mild</td>\n",
       "      <td>high</td>\n",
       "      <td>0</td>\n",
       "      <td>1</td>\n",
       "    </tr>\n",
       "    <tr>\n",
       "      <th>4</th>\n",
       "      <td>sunny</td>\n",
       "      <td>cool</td>\n",
       "      <td>normal</td>\n",
       "      <td>0</td>\n",
       "      <td>1</td>\n",
       "    </tr>\n",
       "  </tbody>\n",
       "</table>\n",
       "</div>"
      ],
      "text/plain": [
       "    Outlook  Temp Humidity  Windy  Play\n",
       "0     rainy   hot     high      0     0\n",
       "1     rainy   hot     high      1     0\n",
       "2  overcast   hot     high      0     1\n",
       "3     sunny  mild     high      0     1\n",
       "4     sunny  cool   normal      0     1"
      ]
     },
     "execution_count": 3,
     "metadata": {},
     "output_type": "execute_result"
    }
   ],
   "source": [
    "df = pd.read_csv('./weather.csv')\n",
    "df.head()"
   ]
  },
  {
   "cell_type": "code",
   "execution_count": 4,
   "id": "58741a56-0a04-4c05-907e-24058b989664",
   "metadata": {
    "tags": []
   },
   "outputs": [],
   "source": [
    "def find_average_info_entropy(df, attribute):\n",
    "    target = df.keys()[-1]\n",
    "    target_values = df[target].unique()\n",
    "    attr_values = df[attribute].unique()\n",
    "    average_info_entropy = 0\n",
    "    for value1 in attr_values:\n",
    "        entropy_subsample = 0\n",
    "        for value2 in target_values:\n",
    "            num = len(df[attribute][df[attribute]==value1][df[target]==value2])\n",
    "            den = len(df[attribute][df[attribute]==value1])\n",
    "            prob = num/den\n",
    "            entropy_subsample += -(prob*np.log2(prob+1e-7)) \n",
    "        weight = den/len(df)\n",
    "        average_info_entropy += weight*entropy_subsample        \n",
    "    return average_info_entropy"
   ]
  },
  {
   "cell_type": "code",
   "execution_count": 5,
   "id": "fdfdb662-007c-4d92-9b41-437f82f2aecc",
   "metadata": {},
   "outputs": [
    {
     "data": {
      "text/plain": [
       "0.9402859586706311"
      ]
     },
     "execution_count": 5,
     "metadata": {},
     "output_type": "execute_result"
    }
   ],
   "source": [
    "find_entropy(df)"
   ]
  },
  {
   "cell_type": "code",
   "execution_count": 6,
   "id": "795a991b-9c01-4810-bb0d-ddb2af75ff4d",
   "metadata": {},
   "outputs": [
    {
     "data": {
      "text/plain": [
       "0.6935358915770655"
      ]
     },
     "execution_count": 6,
     "metadata": {},
     "output_type": "execute_result"
    }
   ],
   "source": [
    "find_average_info_entropy(df, 'Outlook')"
   ]
  },
  {
   "cell_type": "code",
   "execution_count": 7,
   "id": "1ee1ab5a-a6ba-4950-b07b-c842ea2f6383",
   "metadata": {},
   "outputs": [],
   "source": [
    "def find_winner(df):\n",
    "    attributes = df.keys()[:-1]\n",
    "    IG = []\n",
    "    for attribute in attributes:\n",
    "        IG.append(find_entropy(df) - find_average_info_entropy(df, attribute))\n",
    "    # print(IG)\n",
    "    return df.keys()[:-1][np.argmax(IG)]"
   ]
  },
  {
   "cell_type": "code",
   "execution_count": 8,
   "id": "d0e030ea-d48d-4a2a-95c0-3addecf752bf",
   "metadata": {},
   "outputs": [
    {
     "data": {
      "text/plain": [
       "'Outlook'"
      ]
     },
     "execution_count": 8,
     "metadata": {},
     "output_type": "execute_result"
    }
   ],
   "source": [
    "find_winner(df)"
   ]
  },
  {
   "cell_type": "code",
   "execution_count": 9,
   "id": "1521991c-022f-40a5-8aa2-473c4e36fec7",
   "metadata": {},
   "outputs": [],
   "source": [
    "def training(df, tree=None):\n",
    "    split_attribute = find_winner(df)\n",
    "    target = df.keys()[-1]\n",
    "    if tree is None:\n",
    "        tree = {}\n",
    "        tree[split_attribute] = {}\n",
    "    split_attribute_values = df[split_attribute].unique()\n",
    "    for value in split_attribute_values:\n",
    "        sub_df = df[df[split_attribute]==value].reset_index(drop=True) #index ko drop kra\n",
    "        unique_values = sub_df[target].unique()\n",
    "        if len(unique_values) == 1:\n",
    "            tree[split_attribute][value] = unique_values[0]\n",
    "        else:\n",
    "            tree[split_attribute][value] = training(sub_df)\n",
    "    return tree"
   ]
  },
  {
   "cell_type": "code",
   "execution_count": 10,
   "id": "e44bab56-38b7-4f27-a793-ba507ba22816",
   "metadata": {},
   "outputs": [
    {
     "data": {
      "text/plain": [
       "{'Outlook': {'rainy': {'Humidity': {'high': 0, 'normal': 1}},\n",
       "  'overcast': 1,\n",
       "  'sunny': {'Windy': {0: 1, 1: 0}}}}"
      ]
     },
     "execution_count": 10,
     "metadata": {},
     "output_type": "execute_result"
    }
   ],
   "source": [
    "tree = training(df)\n",
    "tree"
   ]
  },
  {
   "cell_type": "code",
   "execution_count": 11,
   "id": "fc31bbeb-8a51-43c3-a70e-0ae0949dc302",
   "metadata": {},
   "outputs": [],
   "source": [
    "def predict(inst, tree):\n",
    "    for nodes in tree.keys():\n",
    "        value = inst[nodes]\n",
    "        tree = tree[nodes][value]\n",
    "        prediction = 0\n",
    "        if type(tree) is dict:\n",
    "            prediction = predict(inst, tree)\n",
    "        else:\n",
    "            prediction = tree\n",
    "            break\n",
    "    return prediction "
   ]
  },
  {
   "cell_type": "code",
   "execution_count": 12,
   "id": "b3c2281f-c0f8-4a2f-bc71-0e1fa2b30f5d",
   "metadata": {},
   "outputs": [],
   "source": [
    "df1 = pd.read_csv('./weather_test.csv')\n",
    "Y_label = []\n",
    "for i in range(len(df1)):\n",
    "    inst = df1.iloc[i,:]\n",
    "    prediction = predict(inst, tree)\n",
    "    Y_label.append(prediction)"
   ]
  },
  {
   "cell_type": "code",
   "execution_count": 13,
   "id": "4dfe5c4e-11ad-4a5e-bbb3-2bc61292216e",
   "metadata": {},
   "outputs": [
    {
     "data": {
      "text/plain": [
       "[0, 1]"
      ]
     },
     "execution_count": 13,
     "metadata": {},
     "output_type": "execute_result"
    }
   ],
   "source": [
    "Y_label"
   ]
  },
  {
   "cell_type": "code",
   "execution_count": 14,
   "id": "6bb314a8-9fb8-4a96-8e7c-0bd83506c9f9",
   "metadata": {},
   "outputs": [
    {
     "name": "stdout",
     "output_type": "stream",
     "text": [
      "              precision    recall  f1-score   support\n",
      "\n",
      "           0       1.00      1.00      1.00         1\n",
      "           1       1.00      1.00      1.00         1\n",
      "\n",
      "    accuracy                           1.00         2\n",
      "   macro avg       1.00      1.00      1.00         2\n",
      "weighted avg       1.00      1.00      1.00         2\n",
      "\n"
     ]
    }
   ],
   "source": [
    "from sklearn import metrics\n",
    "print(metrics.classification_report(df1.iloc[:,-1],Y_label))"
   ]
  },
  {
   "cell_type": "code",
   "execution_count": 15,
   "id": "ab3c4849-268d-4c27-8f1b-6ee59c9e20a1",
   "metadata": {},
   "outputs": [],
   "source": [
    "def visualizer(root, indent=0):\n",
    "    if type(root) == dict:\n",
    "        for k, v in root.items():\n",
    "            print(\" \"*indent + f\"{k}:\")\n",
    "            visualizer(v, indent+2)\n",
    "    else:\n",
    "        print(\" \"*indent + repr(root))"
   ]
  },
  {
   "cell_type": "code",
   "execution_count": 16,
   "id": "ea5a823b-4b6b-4655-80ea-af1eb896280c",
   "metadata": {},
   "outputs": [
    {
     "name": "stdout",
     "output_type": "stream",
     "text": [
      "Outlook:\n",
      "  rainy:\n",
      "    Humidity:\n",
      "      high:\n",
      "        0\n",
      "      normal:\n",
      "        1\n",
      "  overcast:\n",
      "    1\n",
      "  sunny:\n",
      "    Windy:\n",
      "      0:\n",
      "        1\n",
      "      1:\n",
      "        0\n"
     ]
    }
   ],
   "source": [
    "visualizer(tree)"
   ]
  }
 ],
 "metadata": {
  "kernelspec": {
   "display_name": "Python 3 (ipykernel)",
   "language": "python",
   "name": "python3"
  },
  "language_info": {
   "codemirror_mode": {
    "name": "ipython",
    "version": 3
   },
   "file_extension": ".py",
   "mimetype": "text/x-python",
   "name": "python",
   "nbconvert_exporter": "python",
   "pygments_lexer": "ipython3",
   "version": "3.9.2"
  }
 },
 "nbformat": 4,
 "nbformat_minor": 5
}
